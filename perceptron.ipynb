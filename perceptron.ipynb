{
 "cells": [
  {
   "cell_type": "markdown",
   "id": "f2ec545724682ed5",
   "metadata": {
    "collapsed": false
   },
   "source": [
    "# Importing Libraries"
   ]
  },
  {
   "cell_type": "code",
   "execution_count": 1,
   "id": "initial_id",
   "metadata": {
    "ExecuteTime": {
     "end_time": "2024-02-10T02:21:16.849093528Z",
     "start_time": "2024-02-10T02:21:16.822096819Z"
    }
   },
   "outputs": [],
   "source": [
    "import numpy as np\n",
    "import matplotlib.pyplot as plt\n",
    "import ipywidgets as widgets"
   ]
  },
  {
   "cell_type": "markdown",
   "id": "cdd7a22120be3520",
   "metadata": {
    "collapsed": false
   },
   "source": [
    "# Define activation functions"
   ]
  },
  {
   "cell_type": "code",
   "execution_count": 2,
   "id": "597ec35114786822",
   "metadata": {
    "ExecuteTime": {
     "end_time": "2024-02-10T02:29:15.548931991Z",
     "start_time": "2024-02-10T02:29:15.502154983Z"
    },
    "collapsed": false
   },
   "outputs": [],
   "source": [
    "def step_function(x):\n",
    "\treturn np.where(x > 0, 1.0, 0.0)\n",
    "\n",
    "\n",
    "def sigmoid_function(x):\n",
    "\treturn 1.0 / (1.0 + np.exp(-x))\n",
    "\n",
    "\n",
    "def tanh_function(x):\n",
    "\treturn (np.exp(x) - np.exp(-x)) / (np.exp(x) + np.exp(-x))\n",
    "\n",
    "\n",
    "def relu_function(x):\n",
    "\treturn np.maximum(0.0, x)\n",
    "\n",
    "\n",
    "def leaky_relu_function(x):\n",
    "\treturn np.maximum(0.01 * x, x)\n",
    "\n",
    "\n",
    "def identity_function(x):\n",
    "\treturn x\n",
    "\n",
    "\n",
    "def softmax_function(x):\n",
    "\treturn np.exp(x) / np.sum(np.exp(x))"
   ]
  },
  {
   "cell_type": "markdown",
   "id": "39c273da9fe4e1fa",
   "metadata": {
    "collapsed": false
   },
   "source": [
    "# Define the process of perceptron"
   ]
  },
  {
   "cell_type": "code",
   "execution_count": 3,
   "id": "9e5368c75279613c",
   "metadata": {
    "ExecuteTime": {
     "end_time": "2024-02-10T02:21:16.891197631Z",
     "start_time": "2024-02-10T02:21:16.873461713Z"
    },
    "collapsed": false
   },
   "outputs": [],
   "source": [
    "def perceptron(x, w, b, f):\n",
    "\tu = np.dot(x, w) + b\n",
    "\treturn f(u)"
   ]
  },
  {
   "cell_type": "markdown",
   "id": "39b22d3001132c08",
   "metadata": {
    "collapsed": false
   },
   "source": [
    "# Plot"
   ]
  },
  {
   "cell_type": "code",
   "execution_count": 4,
   "id": "81fe01727a14d358",
   "metadata": {
    "ExecuteTime": {
     "end_time": "2024-02-10T02:29:28.329070522Z",
     "start_time": "2024-02-10T02:29:28.114079377Z"
    },
    "collapsed": false
   },
   "outputs": [
    {
     "data": {
      "application/vnd.jupyter.widget-view+json": {
       "model_id": "99e9b298bb0542788f9f169be0744952",
       "version_major": 2,
       "version_minor": 0
      },
      "text/plain": [
       "interactive(children=(Dropdown(description='function', options=('step_function', 'sigmoid_function', 'tanh_fun…"
      ]
     },
     "metadata": {},
     "output_type": "display_data"
    }
   ],
   "source": [
    "# Constants\n",
    "X_MIN, X_MAX, X_STEP = -1.0, 1.0, 0.1\n",
    "Y_MIN, Y_MAX, Y_STEP = -1.0, 1.0, 0.1\n",
    "\n",
    "# Inputs\n",
    "X = np.arange(X_MIN, X_MAX, X_STEP)\n",
    "Y = np.arange(Y_MIN, Y_MAX, Y_STEP)\n",
    "\n",
    "# Outputs\n",
    "Z = np.zeros((X.size, Y.size))\n",
    "\n",
    "@widgets.interact(\n",
    "\tfunction=[\"step_function\", \"sigmoid_function\", \"tanh_function\", \"relu_function\", \"leaky_relu_function\",\n",
    "\t          \"identity_function\", \"softmax_function\"],\n",
    "\tw_0=(-10.0, 10.0, 0.1),\n",
    "\tw_1=(-10.0, 10.0, 0.1),\n",
    "\tb=(-10.0, 10.0, 0.1)\n",
    ")\n",
    "def plot(function, w_0, w_1, b):\n",
    "\tW = np.array([w_0, w_1])\n",
    "\tB = b\n",
    "\tfor i in range(X.size):\n",
    "\t\tfor j in range(Y.size):\n",
    "\t\t\tZ[j, i] = perceptron(np.array([X[i], Y[j]]), W, B, globals()[function])\n",
    "\n",
    "\tplt.imshow(Z, \"gray\", vmin=0.0, vmax=1.0, extent=(X_MIN, X_MAX, Y_MAX, Y_MIN))\n",
    "\tplt.xticks(X[::2])\n",
    "\tplt.yticks(Y[::2])\n",
    "\tplt.xlabel(\"X\")\n",
    "\tplt.ylabel(\"Y\")\n",
    "\tplt.colorbar()\n",
    "\tplt.show()"
   ]
  },
  {
   "cell_type": "markdown",
   "id": "2aef706f31a4b41b",
   "metadata": {
    "collapsed": false
   },
   "source": [
    "# Joining perceptron (Regression)"
   ]
  },
  {
   "cell_type": "code",
   "execution_count": 5,
   "id": "609c23df9e783f29",
   "metadata": {
    "ExecuteTime": {
     "end_time": "2024-02-10T02:29:46.753129815Z",
     "start_time": "2024-02-10T02:29:46.538347329Z"
    },
    "collapsed": false
   },
   "outputs": [
    {
     "data": {
      "application/vnd.jupyter.widget-view+json": {
       "model_id": "00eb2ec2618b4f2f8e7b210664415a28",
       "version_major": 2,
       "version_minor": 0
      },
      "text/plain": [
       "interactive(children=(Dropdown(description='function', options=('step_function', 'sigmoid_function', 'tanh_fun…"
      ]
     },
     "metadata": {},
     "output_type": "display_data"
    }
   ],
   "source": [
    "# Constants\n",
    "X_MIN, X_MAX, X_STEP = -1.0, 1.0, 0.1\n",
    "Y_MIN, Y_MAX, Y_STEP = -1.0, 1.0, 0.1\n",
    "\n",
    "# Inputs\n",
    "X = np.arange(X_MIN, X_MAX, X_STEP)\n",
    "Y = np.arange(Y_MIN, Y_MAX, Y_STEP)\n",
    "\n",
    "# Outputs\n",
    "Z = np.zeros((X.size, Y.size))\n",
    "\n",
    "\n",
    "@widgets.interact(\n",
    "\tfunction=[\"step_function\", \"sigmoid_function\", \"tanh_function\", \"relu_function\", \"leaky_relu_function\",\n",
    "\t          \"identity_function\", \"softmax_function\"],\n",
    "\t# ih means direct input to hidden layer\n",
    "\t# ho means direct hidden to output layer\n",
    "\tw_ih_00=(-10.0, 10.0, 0.1),\n",
    "\tw_ih_01=(-10.0, 10.0, 0.1),\n",
    "\tw_ih_10=(-10.0, 10.0, 0.1),\n",
    "\tw_ih_11=(-10.0, 10.0, 0.1),\n",
    "\tw_ho_0=(-10.0, 10.0, 0.1),\n",
    "\tw_ho_1=(-10.0, 10.0, 0.1),\n",
    "\tb_ih=(-10.0, 10.0, 0.1),\n",
    "\tb_ho=(-10.0, 10.0, 0.1)\n",
    ")\n",
    "def neural_network(function, w_ih_00, w_ih_01, w_ih_10, w_ih_11, w_ho_0, w_ho_1, b_ih, b_ho):\n",
    "\tw_ih = np.array([[w_ih_00, w_ih_10], [w_ih_01, w_ih_11]])\n",
    "\tw_ho = np.array([w_ho_0, w_ho_1])\n",
    "\n",
    "\tfor i in range(X.size):\n",
    "\t\tfor j in range(Y.size):\n",
    "\t\t\ti_to_h = np.array([X[i], Y[j]])\n",
    "\t\t\th_to_o = perceptron(i_to_h, w_ih, b_ih, globals()[function])\n",
    "\t\t\tZ[j, i] = perceptron(h_to_o, w_ho, b_ho, identity_function)\n",
    "\n",
    "\n",
    "\tplt.imshow(Z, \"gray\", vmin=0.0, vmax=1.0, extent=(X_MIN, X_MAX, Y_MAX, Y_MIN))\n",
    "\tplt.xticks(X[::2])\n",
    "\tplt.yticks(Y[::2])\n",
    "\tplt.xlabel(\"X\")\n",
    "\tplt.ylabel(\"Y\")\n",
    "\tplt.colorbar()\n",
    "\t(plt.show())"
   ]
  },
  {
   "cell_type": "code",
   "execution_count": 6,
   "id": "5f2cf4afe4632779",
   "metadata": {
    "ExecuteTime": {
     "end_time": "2024-02-10T02:31:39.883495681Z",
     "start_time": "2024-02-10T02:31:39.876035016Z"
    },
    "collapsed": false
   },
   "outputs": [
    {
     "name": "stdout",
     "output_type": "stream",
     "text": [
      "386.0 386.0\n"
     ]
    }
   ],
   "source": [
    "a = np.array([1, 2, 3, 4, 5, 6, 7, 8, 9, 10])\n",
    "b = np.array([1, 2, 3, 4, 5, 6, 7, 8, 9, 10.1])\n",
    "print(np.dot(a, b), np.dot(b, a))"
   ]
  },
  {
   "cell_type": "code",
   "execution_count": null,
   "id": "433db127968eac6c",
   "metadata": {
    "collapsed": false
   },
   "outputs": [],
   "source": []
  }
 ],
 "metadata": {
  "kernelspec": {
   "display_name": "Python 3 (ipykernel)",
   "language": "python",
   "name": "python3"
  },
  "language_info": {
   "codemirror_mode": {
    "name": "ipython",
    "version": 3
   },
   "file_extension": ".py",
   "mimetype": "text/x-python",
   "name": "python",
   "nbconvert_exporter": "python",
   "pygments_lexer": "ipython3",
   "version": "3.10.13"
  }
 },
 "nbformat": 4,
 "nbformat_minor": 5
}
