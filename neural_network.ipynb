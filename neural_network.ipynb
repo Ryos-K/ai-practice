{
 "cells": [
  {
   "cell_type": "markdown",
   "source": [
    "# Importing Libraries"
   ],
   "metadata": {
    "collapsed": false
   },
   "id": "fcbd1247957cf91b"
  },
  {
   "cell_type": "code",
   "outputs": [],
   "source": [
    "import numpy as np\n",
    "import matplotlib.pyplot as plt\n",
    "import ipywidgets as widgets"
   ],
   "metadata": {
    "collapsed": true,
    "ExecuteTime": {
     "end_time": "2024-02-09T02:37:29.816708565Z",
     "start_time": "2024-02-09T02:37:29.405707210Z"
    }
   },
   "id": "initial_id",
   "execution_count": 1
  },
  {
   "cell_type": "markdown",
   "source": [
    "# Define activation functions"
   ],
   "metadata": {
    "collapsed": false
   },
   "id": "cdd7a22120be3520"
  },
  {
   "cell_type": "code",
   "outputs": [],
   "source": [
    "def step_function(x):\n",
    "    if x > 0:\n",
    "        return 1\n",
    "    else:\n",
    "        return 0\n",
    "\n",
    "def sigmoid_function(x):\n",
    "    return 1 / (1 + np.exp(-x))\n",
    "\n",
    "def tanh_function(x):\n",
    "    return (np.exp(x) - np.exp(-x))/ (np.exp(x) + np.exp(-x))\n",
    "\n",
    "def relu_function(x):\n",
    "    return max(0, x)\n",
    "\n",
    "def leaky_relu_function(x):\n",
    "    return max(0.1 * x, x)\n",
    "\n",
    "def identity_function(x):\n",
    "    return x\n",
    "\n",
    "def softmax_function(x):\n",
    "    return np.exp(x) / np.sum(np.exp(x))"
   ],
   "metadata": {
    "collapsed": false,
    "ExecuteTime": {
     "end_time": "2024-02-09T02:37:29.846329257Z",
     "start_time": "2024-02-09T02:37:29.845822979Z"
    }
   },
   "id": "597ec35114786822",
   "execution_count": 2
  },
  {
   "cell_type": "markdown",
   "source": [
    "# Creating a perceptron"
   ],
   "metadata": {
    "collapsed": false
   },
   "id": "39c273da9fe4e1fa"
  },
  {
   "cell_type": "code",
   "outputs": [
    {
     "data": {
      "text/plain": "interactive(children=(Dropdown(description='function', options=('step_function', 'sigmoid_function', 'tanh_fun…",
      "application/vnd.jupyter.widget-view+json": {
       "version_major": 2,
       "version_minor": 0,
       "model_id": "326dd9bbac9749fe87ae0df7dab7d59c"
      }
     },
     "metadata": {},
     "output_type": "display_data"
    }
   ],
   "source": [
    "# Constants\n",
    "X_MIN, X_MAX, X_STEP = -1.0, 1.0, 0.1\n",
    "Y_MIN, Y_MAX, Y_STEP = -1.0, 1.0, 0.1\n",
    "\n",
    "# Inputs\n",
    "X = np.arange(X_MIN, X_MAX, X_STEP)\n",
    "Y = np.arange(Y_MIN, Y_MAX, Y_STEP)\n",
    "\n",
    "# Outputs\n",
    "Z = np.zeros((X.size, Y.size))\n",
    "\n",
    "@widgets.interact(\n",
    "    function = [\"step_function\", \"sigmoid_function\", \"tanh_function\", \"relu_function\", \"leaky_relu_function\", \"identity_function\", \"softmax_function\"],\n",
    "    weight_X = (-10.0, 10.0, 0.1),\n",
    "    weight_Y = (-10.0, 10.0, 0.1),\n",
    "    bias = (-10.0, 10.0, 0.1)\n",
    ")\n",
    "def perceptron(function, weight_X, weight_Y, bias):\n",
    "    for i in range(X.size):\n",
    "        for j in range(Y.size):\n",
    "            u = weight_X * X[i] + weight_Y * Y[j] + bias\n",
    "            Z[j, i] = globals()[function](u)\n",
    "            \n",
    "    plt.imshow(Z, \"gray\", vmin = 0.0, vmax = 1.0, extent=(X_MIN, X_MAX, Y_MAX, Y_MIN))\n",
    "    plt.xticks(X[::2])\n",
    "    plt.yticks(Y[::2])\n",
    "    plt.xlabel(\"X\")\n",
    "    plt.ylabel(\"Y\")\n",
    "    plt.colorbar()\n",
    "    plt.show()"
   ],
   "metadata": {
    "collapsed": false,
    "ExecuteTime": {
     "end_time": "2024-02-09T02:43:12.749302888Z",
     "start_time": "2024-02-09T02:43:12.543262276Z"
    }
   },
   "id": "81fe01727a14d358",
   "execution_count": 5
  },
  {
   "cell_type": "code",
   "outputs": [],
   "source": [],
   "metadata": {
    "collapsed": false,
    "ExecuteTime": {
     "end_time": "2024-02-09T02:37:30.048213156Z",
     "start_time": "2024-02-09T02:37:30.046215090Z"
    }
   },
   "id": "609c23df9e783f29",
   "execution_count": 3
  }
 ],
 "metadata": {
  "kernelspec": {
   "display_name": "Python 3",
   "language": "python",
   "name": "python3"
  },
  "language_info": {
   "codemirror_mode": {
    "name": "ipython",
    "version": 2
   },
   "file_extension": ".py",
   "mimetype": "text/x-python",
   "name": "python",
   "nbconvert_exporter": "python",
   "pygments_lexer": "ipython2",
   "version": "2.7.6"
  }
 },
 "nbformat": 4,
 "nbformat_minor": 5
}
